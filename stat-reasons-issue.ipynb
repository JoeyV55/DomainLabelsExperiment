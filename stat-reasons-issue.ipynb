{
 "cells": [
  {
   "cell_type": "code",
   "execution_count": 3,
   "metadata": {},
   "outputs": [
    {
     "data": {
      "text/plain": [
       "Index(['P', 'StartDate', 'EndDate', 'Status', 'IPAddress', 'Progress',\n",
       "       'Duration (in seconds)', 'Finished', 'RecordedDate', 'ResponseId',\n",
       "       'RecipientLastName', 'RecipientFirstName', 'RecipientEmail',\n",
       "       'ExternalReference', 'LocationLatitude', 'LocationLongitude',\n",
       "       'DistributionChannel', 'UserLanguage', 'Q18', 'group', 'Q45', 'Q48',\n",
       "       'REASONS TO SELECT THE ISSUE', 'Q52', 'Q50', 'REASONS TO CONFIDENCE',\n",
       "       'Q57', 'Q56', 'Q7', 'Q12_1', 'Q12_2', 'Q12_3', 'Q12_4', 'Q12_5', 'Q8',\n",
       "       'Q46', 'REASONS TO SELECT THE ISSUE 2', 'Q59', 'Q51', 'Q60', 'Q61',\n",
       "       'Q20', 'Q1', 'Q2', 'REASONS FOR DIFFICULTY', 'Q3', 'Q4',\n",
       "       'REASONS TO FEELING ABLE TO SOLVE', 'Q5', 'Q19', 'Q22', 'Q58', 'Q23',\n",
       "       'Q10', 'Q11', 'Q11_4_TEXT', 'Q12', 'Q12_4_TEXT', 'Q13', 'Q14', 'Q15',\n",
       "       'correct', 'sound solution', 'issue_number'],\n",
       "      dtype='object')"
      ]
     },
     "execution_count": 3,
     "metadata": {},
     "output_type": "execute_result"
    }
   ],
   "source": [
    "import pandas as pd\n",
    "from scipy.stats import chi2_contingency\n",
    "\n",
    "# 1. Read the CSV file (adjust the file path if needed)\n",
    "df = pd.read_csv(\"./data/qualitativo_fabio - qualitativo_fabio.csv\")\n",
    "\n",
    "df.columns"
   ]
  },
  {
   "cell_type": "code",
   "execution_count": null,
   "metadata": {},
   "outputs": [
    {
     "name": "stdout",
     "output_type": "stream",
     "text": [
      "Contingency Table:\n",
      "REASONS TO CONFIDENCE  PERCEIVED EASE  PROBLEM EXTENSION  SKILL MATCHING  \\\n",
      "group                                                                      \n",
      "Control                             0                  1               3   \n",
      "Treatment                           1                  1               8   \n",
      "\n",
      "REASONS TO CONFIDENCE  SKILL MATCHING, FOUND THE PROBLEM  \\\n",
      "group                                                      \n",
      "Control                                                1   \n",
      "Treatment                                              0   \n",
      "\n",
      "REASONS TO CONFIDENCE  SKILLS MATCHING, FOUND THE PROBLEM  \\\n",
      "group                                                       \n",
      "Control                                                 1   \n",
      "Treatment                                               0   \n",
      "\n",
      "REASONS TO CONFIDENCE  UNDERSTOOD THE PROBLEM  \n",
      "group                                          \n",
      "Control                                     1  \n",
      "Treatment                                   1  \n",
      "4.6115702479338845\n",
      "\n",
      "Chi-Square Test Results:\n",
      "Chi-Square Statistic: 4.6115702479338845\n",
      "Degrees of Freedom: 5\n",
      "P-value: 0.4650958898870111\n",
      "\n",
      "Expected Frequencies:\n",
      "[[0.38888889 0.77777778 4.27777778 0.38888889 0.38888889 0.77777778]\n",
      " [0.61111111 1.22222222 6.72222222 0.61111111 0.61111111 1.22222222]]\n",
      "\n",
      "Conclusion: No significant difference found (p >= 0.05).\n"
     ]
    }
   ],
   "source": [
    "# 2. Remove rows where column 'P' is empty (i.e. NaN or an empty string)\n",
    "df_filtered = df[df['P'].notna() & (df['P'] != \"\")]\n",
    "\n",
    "# 3. Create a contingency table of 'group' vs 'REASONS_TO_CONFIDENCE'\n",
    "contingency_table = pd.crosstab(df_filtered['group'], df_filtered['REASONS TO CONFIDENCE'])\n",
    "print(\"Contingency Table:\")\n",
    "print(contingency_table)\n",
    "\n",
    "# 4. Perform the chi-square test\n",
    "chi2, p_value, dof, expected = chi2_contingency(contingency_table)\n",
    "\n",
    "#print(chi2)\n",
    "print(\"\\nChi-Square Test Results:\")\n",
    "print(\"Chi-Square Statistic:\", chi2)\n",
    "print(\"Degrees of Freedom:\", dof)\n",
    "print(\"P-value:\", p_value)\n",
    "print(\"\\nExpected Frequencies:\")\n",
    "print(expected)\n",
    "\n",
    "# 5. Interpretation of the result\n",
    "if p_value < 0.05:\n",
    "    print(\"\\nConclusion: Significant difference found (p < 0.05).\")\n",
    "else:\n",
    "    print(\"\\nConclusion: No significant difference found (p >= 0.05).\")\n"
   ]
  },
  {
   "cell_type": "code",
   "execution_count": 9,
   "metadata": {},
   "outputs": [
    {
     "name": "stdout",
     "output_type": "stream",
     "text": [
      "Contingency Table:\n",
      "       easy  extension  skill  found  understood\n",
      "group                                           \n",
      "c         0          1      3      1           1\n",
      "t         1          1      8      0           1\n",
      "\n",
      "Chi-Square Test Results:\n",
      "Chi-square Statistic: 3.067493112947658\n",
      "Degrees of Freedom: 4\n",
      "P-value: 0.5465948120988284\n",
      "\n",
      "Expected Frequencies:\n",
      "[[0.35294118 0.70588235 3.88235294 0.35294118 0.70588235]\n",
      " [0.64705882 1.29411765 7.11764706 0.64705882 1.29411765]]\n",
      "\n",
      "Conclusion: No significant difference found (p >= 0.05).\n"
     ]
    }
   ],
   "source": [
    "import pandas as pd\n",
    "from scipy.stats import chi2_contingency\n",
    "\n",
    "# Load the CSV file from the provided path.\n",
    "# We assume the CSV file is formatted as a contingency table with row labels in the first column.\n",
    "df = pd.read_csv(\"./data/reasons.csv\", index_col=0)\n",
    "print(\"Contingency Table:\")\n",
    "print(df)\n",
    "\n",
    "# Compute the chi-square test.\n",
    "chi2, p, dof, expected = chi2_contingency(df)\n",
    "\n",
    "print(\"\\nChi-Square Test Results:\")\n",
    "print(\"Chi-square Statistic:\", chi2)\n",
    "print(\"Degrees of Freedom:\", dof)\n",
    "print(\"P-value:\", p)\n",
    "print(\"\\nExpected Frequencies:\")\n",
    "print(expected)\n",
    "\n",
    "# Interpretation based on a significance level of 0.05.\n",
    "if p < 0.05:\n",
    "    print(\"\\nConclusion: Significant difference found (p < 0.05).\")\n",
    "else:\n",
    "    print(\"\\nConclusion: No significant difference found (p >= 0.05).\")\n"
   ]
  }
 ],
 "metadata": {
  "kernelspec": {
   "display_name": "base",
   "language": "python",
   "name": "python3"
  },
  "language_info": {
   "codemirror_mode": {
    "name": "ipython",
    "version": 3
   },
   "file_extension": ".py",
   "mimetype": "text/x-python",
   "name": "python",
   "nbconvert_exporter": "python",
   "pygments_lexer": "ipython3",
   "version": "3.12.4"
  }
 },
 "nbformat": 4,
 "nbformat_minor": 2
}
