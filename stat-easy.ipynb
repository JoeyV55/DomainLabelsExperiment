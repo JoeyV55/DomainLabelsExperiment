{
 "cells": [
  {
   "cell_type": "code",
   "execution_count": 2,
   "metadata": {},
   "outputs": [
    {
     "name": "stdout",
     "output_type": "stream",
     "text": [
      "Contingency Table:\n",
      "       improve  readability  testing  split\n",
      "group                                      \n",
      "c         85.7         14.3      0.0    0.0\n",
      "t         16.7         58.3     16.7    8.3\n",
      "\n",
      "Chi-Square Test Results:\n",
      "Chi-square Statistic: 98.16080729166666\n",
      "Degrees of Freedom: 3\n",
      "P-value: 3.862951544444142e-21\n",
      "\n",
      "Expected Frequencies:\n",
      "[[51.2  36.3   8.35  4.15]\n",
      " [51.2  36.3   8.35  4.15]]\n",
      "\n",
      "Conclusion: Significant difference found (p < 0.05).\n"
     ]
    }
   ],
   "source": [
    "import pandas as pd\n",
    "from scipy.stats import chi2_contingency\n",
    "\n",
    "# Load the CSV file from the provided path.\n",
    "# We assume the CSV file is formatted as a contingency table with row labels in the first column.\n",
    "df = pd.read_csv(\"./data/easier.csv\", index_col=0)\n",
    "print(\"Contingency Table:\")\n",
    "print(df)\n",
    "\n",
    "# Compute the chi-square test.\n",
    "chi2, p, dof, expected = chi2_contingency(df)\n",
    "\n",
    "print(\"\\nChi-Square Test Results:\")\n",
    "print(\"Chi-square Statistic:\", chi2)\n",
    "print(\"Degrees of Freedom:\", dof)\n",
    "print(\"P-value:\", p)\n",
    "print(\"\\nExpected Frequencies:\")\n",
    "print(expected)\n",
    "\n",
    "# Interpretation based on a significance level of 0.05.\n",
    "if p < 0.05:\n",
    "    print(\"\\nConclusion: Significant difference found (p < 0.05).\")\n",
    "else:\n",
    "    print(\"\\nConclusion: No significant difference found (p >= 0.05).\")\n"
   ]
  }
 ],
 "metadata": {
  "kernelspec": {
   "display_name": "base",
   "language": "python",
   "name": "python3"
  },
  "language_info": {
   "codemirror_mode": {
    "name": "ipython",
    "version": 3
   },
   "file_extension": ".py",
   "mimetype": "text/x-python",
   "name": "python",
   "nbconvert_exporter": "python",
   "pygments_lexer": "ipython3",
   "version": "3.12.4"
  }
 },
 "nbformat": 4,
 "nbformat_minor": 2
}
